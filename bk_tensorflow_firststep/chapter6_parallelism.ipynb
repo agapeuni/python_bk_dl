{
 "cells": [
  {
   "cell_type": "code",
   "execution_count": 1,
   "source": [
    "%pylab\r\n",
    "%matplotlib inline\r\n",
    "%load_ext watermark\r\n",
    "%watermark -v -p numpy,tensorflow"
   ],
   "outputs": [
    {
     "output_type": "stream",
     "name": "stdout",
     "text": [
      "Using matplotlib backend: Qt5Agg\n",
      "Populating the interactive namespace from numpy and matplotlib\n",
      "CPython 3.5.6\n",
      "IPython 6.5.0\n",
      "\n",
      "numpy 1.15.2\n",
      "tensorflow 1.13.1\n"
     ]
    }
   ],
   "metadata": {}
  },
  {
   "cell_type": "markdown",
   "source": [
    "필요한 모듈을 임포트합니다."
   ],
   "metadata": {}
  },
  {
   "cell_type": "code",
   "execution_count": 2,
   "source": [
    "import tensorflow as tf\r\n",
    "import datetime"
   ],
   "outputs": [],
   "metadata": {}
  },
  {
   "cell_type": "markdown",
   "source": [
    "10 제곱을 계산합니다."
   ],
   "metadata": {}
  },
  {
   "cell_type": "code",
   "execution_count": 3,
   "source": [
    "n = 10"
   ],
   "outputs": [],
   "metadata": {}
  },
  {
   "cell_type": "markdown",
   "source": [
    "1000x1000개의 난수를 갖는 행렬 두개를 만듭니다."
   ],
   "metadata": {}
  },
  {
   "cell_type": "code",
   "execution_count": 4,
   "source": [
    "A = np.random.rand(1000, 1000).astype('float32')\r\n",
    "B = np.random.rand(1000, 1000).astype('float32')"
   ],
   "outputs": [],
   "metadata": {}
  },
  {
   "cell_type": "code",
   "execution_count": 5,
   "source": [
    "A.shape, B.shape"
   ],
   "outputs": [
    {
     "output_type": "execute_result",
     "data": {
      "text/plain": [
       "((1000, 1000), (1000, 1000))"
      ]
     },
     "metadata": {},
     "execution_count": 5
    }
   ],
   "metadata": {}
  },
  {
   "cell_type": "markdown",
   "source": [
    "결과를 저장할 두개의 리스트를 만듭니다."
   ],
   "metadata": {}
  },
  {
   "cell_type": "code",
   "execution_count": 6,
   "source": [
    "c1 = []\r\n",
    "c2 = []"
   ],
   "outputs": [],
   "metadata": {}
  },
  {
   "cell_type": "markdown",
   "source": [
    "재귀함수를 사용하여 행렬의 거듭제곱을 계산하는 함수 matpow를 만듭니다."
   ],
   "metadata": {}
  },
  {
   "cell_type": "code",
   "execution_count": 7,
   "source": [
    "def matpow(M, n):\r\n",
    "    if n < 1: #Abstract cases where n < 1\r\n",
    "        return M\r\n",
    "    else:\r\n",
    "        return tf.matmul(M, matpow(M, n-1))"
   ],
   "outputs": [],
   "metadata": {}
  },
  {
   "cell_type": "markdown",
   "source": [
    "GPU가 없는 경우 아래 '/gpu:0'을 '/cpu:0'로 바꾸어 주세요."
   ],
   "metadata": {}
  },
  {
   "cell_type": "code",
   "execution_count": 8,
   "source": [
    "with tf.device('/gpu:0'):\r\n",
    "    a = tf.constant(A)\r\n",
    "    b = tf.constant(B)\r\n",
    "    #compute A^n and B^n and store results in c1\r\n",
    "    c1.append(matpow(a, n))\r\n",
    "    c1.append(matpow(b, n))"
   ],
   "outputs": [],
   "metadata": {}
  },
  {
   "cell_type": "markdown",
   "source": [
    "CPU를 사용하여 C1의 엘리먼트 값을 모두 더합니다."
   ],
   "metadata": {}
  },
  {
   "cell_type": "code",
   "execution_count": 9,
   "source": [
    "with tf.device('/cpu:0'):\r\n",
    "  sum = tf.add_n(c1) #Addition of all elements in c1, i.e. A^n + B^n"
   ],
   "outputs": [],
   "metadata": {}
  },
  {
   "cell_type": "markdown",
   "source": [
    "세션을 만들고 그래프를 실행합니다. 주피터 노트북을 실행한 쉘에 선택한 디바이스에 대한 로그가 나타납니다."
   ],
   "metadata": {}
  },
  {
   "cell_type": "code",
   "execution_count": 10,
   "source": [
    "t1_1 = datetime.datetime.now()\r\n",
    "with tf.Session(config=tf.ConfigProto(log_device_placement=True)) as sess:\r\n",
    "    # Runs the op.\r\n",
    "    print(sess.run(sum))\r\n",
    "t2_1 = datetime.datetime.now()"
   ],
   "outputs": [
    {
     "output_type": "stream",
     "name": "stdout",
     "text": [
      "[[9.68349729e+26 9.80230908e+26 9.81871192e+26 ... 9.73172298e+26\n",
      "  9.63257247e+26 9.84453442e+26]\n",
      " [9.66439827e+26 9.78491749e+26 9.80047031e+26 ... 9.71766509e+26\n",
      "  9.61600139e+26 9.82554829e+26]\n",
      " [9.97564502e+26 1.00990906e+27 1.01155466e+27 ... 1.00281068e+27\n",
      "  9.92449736e+26 1.01417734e+27]\n",
      " ...\n",
      " [9.59190404e+26 9.71363632e+26 9.72817973e+26 ... 9.65038465e+26\n",
      "  9.54651620e+26 9.75231545e+26]\n",
      " [9.58550819e+26 9.70477819e+26 9.72031552e+26 ... 9.63764975e+26\n",
      "  9.53717550e+26 9.74528503e+26]\n",
      " [9.53551456e+26 9.65089673e+26 9.66772754e+26 ... 9.57872569e+26\n",
      "  9.48335086e+26 9.69372859e+26]]\n"
     ]
    }
   ],
   "metadata": {}
  },
  {
   "cell_type": "code",
   "execution_count": 11,
   "source": [
    "print(\"Single CPU computation time: \" + str(t2_1-t1_1))"
   ],
   "outputs": [
    {
     "output_type": "stream",
     "name": "stdout",
     "text": [
      "Single CPU computation time: 0:00:00.655085\n"
     ]
    }
   ],
   "metadata": {}
  }
 ],
 "metadata": {
  "kernelspec": {
   "display_name": "Python 3",
   "language": "python",
   "name": "python3"
  },
  "language_info": {
   "codemirror_mode": {
    "name": "ipython",
    "version": 3
   },
   "file_extension": ".py",
   "mimetype": "text/x-python",
   "name": "python",
   "nbconvert_exporter": "python",
   "pygments_lexer": "ipython3",
   "version": "3.5.6"
  }
 },
 "nbformat": 4,
 "nbformat_minor": 1
}