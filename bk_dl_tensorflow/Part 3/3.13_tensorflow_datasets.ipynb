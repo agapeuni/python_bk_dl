{
 "cells": [
  {
   "cell_type": "markdown",
   "metadata": {
    "id": "XZZgavyejBok"
   },
   "source": [
    "[구글 코랩(Colab)에서 실행하기](https://colab.research.google.com/github/lovedlim/tensorflow/blob/main/Part%203/3.13_tensorflow_datasets.ipynb)"
   ]
  },
  {
   "cell_type": "code",
   "execution_count": null,
   "metadata": {
    "id": "A4XOJTuLHhPH"
   },
   "outputs": [],
   "source": [
    "import tensorflow_datasets as tfds"
   ]
  },
  {
   "cell_type": "code",
   "execution_count": null,
   "metadata": {
    "id": "2FN101wjHhPM"
   },
   "outputs": [],
   "source": [
    "# cifar100 데이터셋 이름 지정\n",
    "dataset_name = 'cifar100'\n",
    "# 데이터셋 로드\n",
    "ds = tfds.load(dataset_name, split='train')\n",
    "ds"
   ]
  },
  {
   "cell_type": "code",
   "execution_count": null,
   "metadata": {
    "id": "52_2Cx89HhPM"
   },
   "outputs": [],
   "source": [
    "# 5개의 데이터 출력\n",
    "for data in ds.take(5):\n",
    "    print(type(data))"
   ]
  },
  {
   "cell_type": "code",
   "execution_count": null,
   "metadata": {
    "id": "j-ub8CIXHhPN"
   },
   "outputs": [],
   "source": [
    "# 5개의 데이터 출력\n",
    "for data in ds.take(5):\n",
    "    # image\n",
    "    image = data['image']\n",
    "    # label\n",
    "    label = data['label']\n",
    "    print(image.shape)\n",
    "    print(label)"
   ]
  },
  {
   "cell_type": "code",
   "execution_count": null,
   "metadata": {
    "id": "CGU4PNvmHhPN"
   },
   "outputs": [],
   "source": [
    "# as_supervised=True는 tuple 형식으로 x, y 데이터를 로드\n",
    "ds = tfds.load(dataset_name, split='train', as_supervised=True)\n",
    "\n",
    "for image, label in ds.take(5):\n",
    "    print(image.shape, label)"
   ]
  },
  {
   "cell_type": "code",
   "execution_count": null,
   "metadata": {
    "id": "PyWoMB_kHhPN"
   },
   "outputs": [],
   "source": [
    "# with_info=True 로 데이터셋의 정보 로드\n",
    "ds, info = tfds.load(dataset_name, split='train', with_info=True)\n",
    "\n",
    "# info 확인\n",
    "info"
   ]
  }
 ],
 "metadata": {
  "colab": {
   "collapsed_sections": [],
   "name": "3.13_tensorflow_datasets.ipynb",
   "provenance": []
  },
  "kernelspec": {
   "display_name": "Python 3",
   "language": "python",
   "name": "python3"
  },
  "language_info": {
   "codemirror_mode": {
    "name": "ipython",
    "version": 3
   },
   "file_extension": ".py",
   "mimetype": "text/x-python",
   "name": "python",
   "nbconvert_exporter": "python",
   "pygments_lexer": "ipython3",
   "version": "3.8.3"
  }
 },
 "nbformat": 4,
 "nbformat_minor": 4
}
