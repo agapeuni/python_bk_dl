{
 "cells": [
  {
   "cell_type": "code",
   "execution_count": 1,
   "metadata": {},
   "outputs": [],
   "source": [
    "## 1. 라이브러리 읽어 들이기 ##\n",
    "\n",
    "# 텐서플로 라이브러리\n",
    "import tensorflow as tf\n",
    "# tflearn 라이브러리\n",
    "import tflearn\n",
    "\n",
    "# 레이어 생성 등 학습에 필요한 라이브러리 읽어 들이기\n",
    "from tflearn.layers.core import input_data, dropout, fully_connected\n",
    "from tflearn.layers.conv import conv_2d, max_pool_2d\n",
    "from tflearn.layers.normalization import local_response_normalization\n",
    "from tflearn.layers.estimator import regression\n",
    "\n",
    "import os\n",
    "import numpy as np\n",
    "from PIL import Image"
   ]
  },
  {
   "cell_type": "code",
   "execution_count": 2,
   "metadata": {},
   "outputs": [],
   "source": [
    "## 이미지 데이터 처리하기\n",
    "\n",
    "# 학습 전용 이미지 파일을 저장하고 있는 디렉터리\n",
    "train_dirs = ['pos', 'neg']\n",
    "\n",
    "# 학습 데이터를 저장할 배열 준비하기\n",
    "trainX = [] # 이미지 픽셀값\n",
    "trainY = [] # 정답 데이터\n",
    "\n",
    "for i, d in enumerate(train_dirs):\n",
    "    # 파일 이름 추출하기\n",
    "    files = os.listdir('./data/pict/' + d)\n",
    "    for f in files:\n",
    "        # 이미지 읽어 들이기\n",
    "        image = Image.open('./data/pict/' + d + '/' + f, 'r')\n",
    "        # 그레이스케일로 변환하기\n",
    "        gray_image = image.convert('L')\n",
    "        # 이미지 파일을 픽셀값으로 변환하기\n",
    "        gray_image_px = np.array(gray_image)\n",
    "        gray_image_flatten = gray_image_px.flatten().astype(np.float32)/255.0\n",
    "        trainX.append(gray_image_flatten)\n",
    "        \n",
    "        # 정답 데이터를 one_hot 형식으로 변환하기\n",
    "        tmp = np.zeros(2)\n",
    "        tmp[i] = 1\n",
    "        trainY.append(tmp)\n",
    "\n",
    "# numpy 배열로 변환하기\n",
    "trainX = np.asarray(trainX)\n",
    "trainY = np.asarray(trainY)"
   ]
  },
  {
   "cell_type": "code",
   "execution_count": 3,
   "metadata": {},
   "outputs": [
    {
     "name": "stdout",
     "output_type": "stream",
     "text": [
      "[ 0.26666668  0.42745098  0.45882353 ...,  0.27450982  0.27843139\n",
      "  0.29803923]\n",
      "[ 1.  0.]\n"
     ]
    }
   ],
   "source": [
    "# 0번째 이미지 픽셀 값과 정답 데이터 출력하기\n",
    "print(trainX[0])\n",
    "print(trainY[0])"
   ]
  },
  {
   "cell_type": "code",
   "execution_count": 4,
   "metadata": {},
   "outputs": [
    {
     "name": "stdout",
     "output_type": "stream",
     "text": [
      "1024\n",
      "2\n"
     ]
    }
   ],
   "source": [
    "# 0번째 이미지 픽셀 값과 정답 데이터의 크기 출력하기\n",
    "print(len(trainX[0]))\n",
    "print(len(trainY[0]))"
   ]
  },
  {
   "cell_type": "code",
   "execution_count": 5,
   "metadata": {},
   "outputs": [],
   "source": [
    "# 이미지 픽셀 데이터를 2차원으로 변환하기\n",
    "trainX = trainX.reshape([-1, 32, 32, 1])"
   ]
  },
  {
   "cell_type": "code",
   "execution_count": 6,
   "metadata": {},
   "outputs": [
    {
     "name": "stdout",
     "output_type": "stream",
     "text": [
      "[[[ 0.26666668]\n",
      "  [ 0.42745098]\n",
      "  [ 0.45882353]\n",
      "  ..., \n",
      "  [ 0.47450981]\n",
      "  [ 0.51372552]\n",
      "  [ 0.52941179]]\n",
      "\n",
      " [[ 0.35686275]\n",
      "  [ 0.75686276]\n",
      "  [ 0.82745099]\n",
      "  ..., \n",
      "  [ 0.47450981]\n",
      "  [ 0.48627451]\n",
      "  [ 0.47058824]]\n",
      "\n",
      " [[ 0.34901962]\n",
      "  [ 0.6156863 ]\n",
      "  [ 0.80392158]\n",
      "  ..., \n",
      "  [ 0.4509804 ]\n",
      "  [ 0.45882353]\n",
      "  [ 0.4627451 ]]\n",
      "\n",
      " ..., \n",
      " [[ 0.03137255]\n",
      "  [ 0.02745098]\n",
      "  [ 0.00392157]\n",
      "  ..., \n",
      "  [ 0.29803923]\n",
      "  [ 0.27058825]\n",
      "  [ 0.30980393]]\n",
      "\n",
      " [[ 0.01568628]\n",
      "  [ 0.04313726]\n",
      "  [ 0.04705882]\n",
      "  ..., \n",
      "  [ 0.33725491]\n",
      "  [ 0.32941177]\n",
      "  [ 0.32156864]]\n",
      "\n",
      " [[ 0.02352941]\n",
      "  [ 0.04313726]\n",
      "  [ 0.07450981]\n",
      "  ..., \n",
      "  [ 0.27450982]\n",
      "  [ 0.27843139]\n",
      "  [ 0.29803923]]]\n"
     ]
    }
   ],
   "source": [
    "# 0번째 이미지 픽셀값 출력하기\n",
    "print(trainX[0])"
   ]
  },
  {
   "cell_type": "code",
   "execution_count": 7,
   "metadata": {},
   "outputs": [
    {
     "name": "stdout",
     "output_type": "stream",
     "text": [
      "32\n"
     ]
    }
   ],
   "source": [
    "# 0번째 이미지 픽셀값의 크기 출력하기\n",
    "print(len(trainX[0]))"
   ]
  },
  {
   "cell_type": "code",
   "execution_count": 8,
   "metadata": {},
   "outputs": [
    {
     "name": "stdout",
     "output_type": "stream",
     "text": [
      "WARNING:tensorflow:From /usr/local/Cellar/python3/3.6.3/Frameworks/Python.framework/Versions/3.6/lib/python3.6/site-packages/tflearn/initializations.py:119: UniformUnitScaling.__init__ (from tensorflow.python.ops.init_ops) is deprecated and will be removed in a future version.\n",
      "Instructions for updating:\n",
      "Use tf.initializers.variance_scaling instead with distribution=uniform to get equivalent behavior.\n",
      "WARNING:tensorflow:From /usr/local/Cellar/python3/3.6.3/Frameworks/Python.framework/Versions/3.6/lib/python3.6/site-packages/tflearn/objectives.py:66: calling reduce_sum (from tensorflow.python.ops.math_ops) with keep_dims is deprecated and will be removed in a future version.\n",
      "Instructions for updating:\n",
      "keep_dims is deprecated, use keepdims instead\n"
     ]
    }
   ],
   "source": [
    "## 3. 신경망 만들기\n",
    "\n",
    "## 초기화\n",
    "tf.reset_default_graph()\n",
    "\n",
    "## 입력 레이어 만들기\n",
    "net = input_data(shape=[None, 32, 32, 1])\n",
    "\n",
    "## 중간 레이어 만들기\n",
    "# 합성곱 레이어 만들기\n",
    "net = conv_2d(net, 32, 5, activation='relu')\n",
    "# 풀링 레이어 만들기\n",
    "net = max_pool_2d(net, 2)\n",
    "# 합성곱 레이어 만들기\n",
    "net = conv_2d(net, 64, 5, activation='relu')\n",
    "# 풀링 레이어 만들기\n",
    "net = max_pool_2d(net, 2)\n",
    "# 전결합 레이어 만들기\n",
    "net = fully_connected(net, 128, activation='relu')\n",
    "net = dropout(net, 0.5)\n",
    "\n",
    "## 출력 레이어 만들기\n",
    "net = tflearn.fully_connected(net, 2, activation='softmax')\n",
    "net = tflearn.regression(net, optimizer='sgd', learning_rate=0.5, loss='categorical_crossentropy')"
   ]
  },
  {
   "cell_type": "code",
   "execution_count": 9,
   "metadata": {},
   "outputs": [
    {
     "name": "stdout",
     "output_type": "stream",
     "text": [
      "Training Step: 259  | total loss: \u001b[1m\u001b[32m0.68022\u001b[0m\u001b[0m | time: 1.276s\n",
      "| SGD | epoch: 020 | loss: 0.68022 - acc: 0.5741 -- iter: 384/387\n",
      "Training Step: 260  | total loss: \u001b[1m\u001b[32m0.68371\u001b[0m\u001b[0m | time: 2.376s\n",
      "| SGD | epoch: 020 | loss: 0.68371 - acc: 0.5667 | val_loss: 0.60412 - val_acc: 0.7732 -- iter: 387/387\n",
      "--\n"
     ]
    }
   ],
   "source": [
    "## 4. 모델 만들기(학습) ##\n",
    "# 학습 실행하기\n",
    "model = tflearn.DNN(net)\n",
    "model.fit(trainX, trainY, n_epoch=20, batch_size=32, validation_set=0.2, show_metric=True)"
   ]
  },
  {
   "cell_type": "code",
   "execution_count": null,
   "metadata": {},
   "outputs": [],
   "source": []
  }
 ],
 "metadata": {
  "kernelspec": {
   "display_name": "Python 3",
   "language": "python",
   "name": "python3"
  },
  "language_info": {
   "codemirror_mode": {
    "name": "ipython",
    "version": 3
   },
   "file_extension": ".py",
   "mimetype": "text/x-python",
   "name": "python",
   "nbconvert_exporter": "python",
   "pygments_lexer": "ipython3",
   "version": "3.6.3"
  }
 },
 "nbformat": 4,
 "nbformat_minor": 2
}
